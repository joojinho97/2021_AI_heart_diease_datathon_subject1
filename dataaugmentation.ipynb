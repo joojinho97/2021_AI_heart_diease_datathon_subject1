{
 "cells": [
  {
   "cell_type": "code",
   "execution_count": 1,
   "metadata": {},
   "outputs": [],
   "source": [
    "import os\n",
    "import numpy as np\n",
    "import matplotlib.pyplot as plt"
   ]
  },
  {
   "cell_type": "code",
   "execution_count": 2,
   "metadata": {},
   "outputs": [],
   "source": [
    "from keras.preprocessing.image import ImageDataGenerator"
   ]
  },
  {
   "cell_type": "code",
   "execution_count": null,
   "metadata": {},
   "outputs": [],
   "source": [
    "datagen=ImageDataGenerator(\n",
    "    width_shift_range=0.1,\n",
    "    height_shift_range=0.1)"
   ]
  },
  {
   "cell_type": "code",
   "execution_count": 185,
   "metadata": {},
   "outputs": [],
   "source": [
    "#augment\n",
    "\n",
    "img_dir='C:\\\\Users\\\\hojin\\\\Downloads\\\\echocardiography\\\\train\\\\A2C'\n",
    "\n",
    "mask_dir='C:\\\\Users\\\\hojin\\\\Downloads\\\\echocardiography\\\\train\\\\A2C_LABEL'\n",
    "save_img='C:\\\\Users\\\\hojin\\\\Downloads\\\\echocardiography\\\\train\\\\SPECAUGLARGE'\n",
    "save_mask='C:\\\\Users\\\\hojin\\\\Downloads\\\\echocardiography\\\\train\\\\SPECAUGLARGE'\n",
    "number=0\n",
    "for img_ in os.listdir(img_dir):\n",
    "    \n",
    "    img=plt.imread(f'{img_dir}\\\\{img_}')\n",
    "    \n",
    "    img = np.expand_dims(img, 0)\n",
    "    \n",
    "    if img_[4]=='.':\n",
    "        \n",
    "        mask=np.load(f'{mask_dir}\\\\{img_[:5]}npy')\n",
    "        \n",
    "        mask=np.expand_dims(mask,0)\n",
    "        mask=np.expand_dims(mask,-1)\n",
    "    else:\n",
    "        mask=np.load(f'{mask_dir}\\\\{img_[:8]}npy')\n",
    "        \n",
    "        mask=np.expand_dims(mask,0)\n",
    "        mask=np.expand_dims(mask,-1)\n",
    "     \n",
    "    \n",
    "    \n",
    "    number+=1\n",
    "    \n",
    "    i=0\n",
    "    for batch in datagen.flow(img,batch_size=1,seed=1337):\n",
    "        batch=batch.reshape(batch.shape[1],batch.shape[2],4)\n",
    "        #batch=np.delete(batch,1,axis=-1)\n",
    "        \n",
    "        i+=1\n",
    "        plt.imsave(f'{save_img}\\\\augment__{number}q{i}.png',batch)\n",
    "        if i > n:\n",
    "        break\n",
    "    i=0\n",
    "    for batch_ in datagen.flow(mask,batch_size=1,seed=1337):\n",
    "        batch_=batch_.reshape(batch_.shape[1],batch_.shape[2])\n",
    "        i+=1\n",
    "        np.save(f'{save_mask}\\\\augment__{number}q{i}.npy',batch_)\n",
    "        if i > n:\n",
    "        break\n",
    "        "
   ]
  },
  {
   "cell_type": "code",
   "execution_count": null,
   "metadata": {},
   "outputs": [],
   "source": []
  }
 ],
 "metadata": {
  "kernelspec": {
   "display_name": "Python 3",
   "language": "python",
   "name": "python3"
  },
  "language_info": {
   "codemirror_mode": {
    "name": "ipython",
    "version": 3
   },
   "file_extension": ".py",
   "mimetype": "text/x-python",
   "name": "python",
   "nbconvert_exporter": "python",
   "pygments_lexer": "ipython3",
   "version": "3.8.5"
  }
 },
 "nbformat": 4,
 "nbformat_minor": 4
}
